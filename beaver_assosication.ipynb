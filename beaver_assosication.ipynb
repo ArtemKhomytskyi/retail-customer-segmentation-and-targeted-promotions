{
  "cells": [
    {
      "cell_type": "code",
      "execution_count": 1,
      "metadata": {
        "colab": {
          "base_uri": "https://localhost:8080/"
        },
        "id": "TmcBnC0Dy88t",
        "outputId": "b0a6ac3e-ce46-4b19-9e99-a8181cc74e37"
      },
      "outputs": [
        {
          "name": "stdout",
          "output_type": "stream",
          "text": [
            "Collecting mlxtend\n",
            "  Downloading mlxtend-0.23.4-py3-none-any.whl.metadata (7.3 kB)\n",
            "Requirement already satisfied: scipy>=1.2.1 in c:\\users\\artkh.000\\appdata\\roaming\\python\\python311\\site-packages (from mlxtend) (1.13.1)\n",
            "Requirement already satisfied: numpy>=1.16.2 in c:\\users\\artkh.000\\appdata\\roaming\\python\\python311\\site-packages (from mlxtend) (1.26.4)\n",
            "Requirement already satisfied: pandas>=0.24.2 in c:\\users\\artkh.000\\appdata\\roaming\\python\\python311\\site-packages (from mlxtend) (2.2.3)\n",
            "Requirement already satisfied: scikit-learn>=1.3.1 in c:\\users\\artkh.000\\appdata\\roaming\\python\\python311\\site-packages (from mlxtend) (1.5.2)\n",
            "Requirement already satisfied: matplotlib>=3.0.0 in c:\\users\\artkh.000\\appdata\\roaming\\python\\python311\\site-packages (from mlxtend) (3.9.2)\n",
            "Requirement already satisfied: joblib>=0.13.2 in c:\\users\\artkh.000\\appdata\\roaming\\python\\python311\\site-packages (from mlxtend) (1.4.2)\n",
            "Requirement already satisfied: contourpy>=1.0.1 in c:\\users\\artkh.000\\appdata\\roaming\\python\\python311\\site-packages (from matplotlib>=3.0.0->mlxtend) (1.3.0)\n",
            "Requirement already satisfied: cycler>=0.10 in c:\\users\\artkh.000\\appdata\\roaming\\python\\python311\\site-packages (from matplotlib>=3.0.0->mlxtend) (0.12.1)\n",
            "Requirement already satisfied: fonttools>=4.22.0 in c:\\users\\artkh.000\\appdata\\roaming\\python\\python311\\site-packages (from matplotlib>=3.0.0->mlxtend) (4.54.1)\n",
            "Requirement already satisfied: kiwisolver>=1.3.1 in c:\\users\\artkh.000\\appdata\\roaming\\python\\python311\\site-packages (from matplotlib>=3.0.0->mlxtend) (1.4.7)\n",
            "Requirement already satisfied: packaging>=20.0 in c:\\users\\artkh.000\\appdata\\roaming\\python\\python311\\site-packages (from matplotlib>=3.0.0->mlxtend) (24.1)\n",
            "Requirement already satisfied: pillow>=8 in c:\\users\\artkh.000\\appdata\\roaming\\python\\python311\\site-packages (from matplotlib>=3.0.0->mlxtend) (10.4.0)\n",
            "Requirement already satisfied: pyparsing>=2.3.1 in c:\\users\\artkh.000\\appdata\\roaming\\python\\python311\\site-packages (from matplotlib>=3.0.0->mlxtend) (3.2.0)\n",
            "Requirement already satisfied: python-dateutil>=2.7 in c:\\users\\artkh.000\\appdata\\roaming\\python\\python311\\site-packages (from matplotlib>=3.0.0->mlxtend) (2.9.0.post0)\n",
            "Requirement already satisfied: pytz>=2020.1 in c:\\users\\artkh.000\\appdata\\roaming\\python\\python311\\site-packages (from pandas>=0.24.2->mlxtend) (2024.2)\n",
            "Requirement already satisfied: tzdata>=2022.7 in c:\\users\\artkh.000\\appdata\\roaming\\python\\python311\\site-packages (from pandas>=0.24.2->mlxtend) (2024.2)\n",
            "Requirement already satisfied: threadpoolctl>=3.1.0 in c:\\users\\artkh.000\\appdata\\roaming\\python\\python311\\site-packages (from scikit-learn>=1.3.1->mlxtend) (3.5.0)\n",
            "Requirement already satisfied: six>=1.5 in c:\\users\\artkh.000\\appdata\\roaming\\python\\python311\\site-packages (from python-dateutil>=2.7->matplotlib>=3.0.0->mlxtend) (1.16.0)\n",
            "Downloading mlxtend-0.23.4-py3-none-any.whl (1.4 MB)\n",
            "   ---------------------------------------- 0.0/1.4 MB ? eta -:--:--\n",
            "   ---------------------------------------- 0.0/1.4 MB ? eta -:--:--\n",
            "   ---------------------------------------- 0.0/1.4 MB ? eta -:--:--\n",
            "   ---------------------------------------- 0.0/1.4 MB ? eta -:--:--\n",
            "   ---------------------------------------- 0.0/1.4 MB ? eta -:--:--\n",
            "   ---------------------------------------- 0.0/1.4 MB ? eta -:--:--\n",
            "   ---------------------------------------- 0.0/1.4 MB ? eta -:--:--\n",
            "   ---------------------------------------- 0.0/1.4 MB ? eta -:--:--\n",
            "   ---------------------------------------- 0.0/1.4 MB ? eta -:--:--\n",
            "   ---------------------------------------- 0.0/1.4 MB ? eta -:--:--\n",
            "   ---------------------------------------- 0.0/1.4 MB ? eta -:--:--\n",
            "   ---------------------------------------- 0.0/1.4 MB ? eta -:--:--\n",
            "   ------- -------------------------------- 0.3/1.4 MB ? eta -:--:--\n",
            "   ------- -------------------------------- 0.3/1.4 MB ? eta -:--:--\n",
            "   ------- -------------------------------- 0.3/1.4 MB ? eta -:--:--\n",
            "   ------- -------------------------------- 0.3/1.4 MB ? eta -:--:--\n",
            "   ------- -------------------------------- 0.3/1.4 MB ? eta -:--:--\n",
            "   ------- -------------------------------- 0.3/1.4 MB ? eta -:--:--\n",
            "   ------- -------------------------------- 0.3/1.4 MB ? eta -:--:--\n",
            "   ------- -------------------------------- 0.3/1.4 MB ? eta -:--:--\n",
            "   ------- -------------------------------- 0.3/1.4 MB ? eta -:--:--\n",
            "   ------- -------------------------------- 0.3/1.4 MB ? eta -:--:--\n",
            "   ------- -------------------------------- 0.3/1.4 MB ? eta -:--:--\n",
            "   ------- -------------------------------- 0.3/1.4 MB ? eta -:--:--\n",
            "   ------- -------------------------------- 0.3/1.4 MB ? eta -:--:--\n",
            "   ------- -------------------------------- 0.3/1.4 MB ? eta -:--:--\n",
            "   ------- -------------------------------- 0.3/1.4 MB ? eta -:--:--\n",
            "   ------- -------------------------------- 0.3/1.4 MB ? eta -:--:--\n",
            "   ------- -------------------------------- 0.3/1.4 MB ? eta -:--:--\n",
            "   ------- -------------------------------- 0.3/1.4 MB ? eta -:--:--\n",
            "   ------- -------------------------------- 0.3/1.4 MB ? eta -:--:--\n",
            "   ------- -------------------------------- 0.3/1.4 MB ? eta -:--:--\n",
            "   ------- -------------------------------- 0.3/1.4 MB ? eta -:--:--\n",
            "   ------- -------------------------------- 0.3/1.4 MB ? eta -:--:--\n",
            "   ------- -------------------------------- 0.3/1.4 MB ? eta -:--:--\n",
            "   ------- -------------------------------- 0.3/1.4 MB ? eta -:--:--\n",
            "   ------- -------------------------------- 0.3/1.4 MB ? eta -:--:--\n",
            "   --------------- ------------------------ 0.5/1.4 MB 51.5 kB/s eta 0:00:17\n",
            "   --------------- ------------------------ 0.5/1.4 MB 51.5 kB/s eta 0:00:17\n",
            "   --------------- ------------------------ 0.5/1.4 MB 51.5 kB/s eta 0:00:17\n",
            "   --------------- ------------------------ 0.5/1.4 MB 51.5 kB/s eta 0:00:17\n",
            "   --------------- ------------------------ 0.5/1.4 MB 51.5 kB/s eta 0:00:17\n",
            "   --------------- ------------------------ 0.5/1.4 MB 51.5 kB/s eta 0:00:17\n",
            "   --------------- ------------------------ 0.5/1.4 MB 51.5 kB/s eta 0:00:17\n",
            "   --------------- ------------------------ 0.5/1.4 MB 51.5 kB/s eta 0:00:17\n",
            "   ----------------------- ---------------- 0.8/1.4 MB 77.7 kB/s eta 0:00:08\n",
            "   ----------------------- ---------------- 0.8/1.4 MB 77.7 kB/s eta 0:00:08\n",
            "   ----------------------- ---------------- 0.8/1.4 MB 77.7 kB/s eta 0:00:08\n",
            "   ----------------------- ---------------- 0.8/1.4 MB 77.7 kB/s eta 0:00:08\n",
            "   ----------------------- ---------------- 0.8/1.4 MB 77.7 kB/s eta 0:00:08\n",
            "   ----------------------- ---------------- 0.8/1.4 MB 77.7 kB/s eta 0:00:08\n",
            "   ----------------------- ---------------- 0.8/1.4 MB 77.7 kB/s eta 0:00:08\n",
            "   ----------------------- ---------------- 0.8/1.4 MB 77.7 kB/s eta 0:00:08\n",
            "   ----------------------- ---------------- 0.8/1.4 MB 77.7 kB/s eta 0:00:08\n",
            "   ----------------------- ---------------- 0.8/1.4 MB 77.7 kB/s eta 0:00:08\n",
            "   ----------------------- ---------------- 0.8/1.4 MB 77.7 kB/s eta 0:00:08\n",
            "   ----------------------- ---------------- 0.8/1.4 MB 77.7 kB/s eta 0:00:08\n",
            "   ------------------------------- -------- 1.0/1.4 MB 84.3 kB/s eta 0:00:04\n",
            "   ------------------------------- -------- 1.0/1.4 MB 84.3 kB/s eta 0:00:04\n",
            "   ------------------------------- -------- 1.0/1.4 MB 84.3 kB/s eta 0:00:04\n",
            "   ------------------------------- -------- 1.0/1.4 MB 84.3 kB/s eta 0:00:04\n",
            "   ------------------------------- -------- 1.0/1.4 MB 84.3 kB/s eta 0:00:04\n",
            "   ------------------------------- -------- 1.0/1.4 MB 84.3 kB/s eta 0:00:04\n",
            "   -------------------------------------- - 1.3/1.4 MB 98.1 kB/s eta 0:00:01\n",
            "   -------------------------------------- - 1.3/1.4 MB 98.1 kB/s eta 0:00:01\n",
            "   ---------------------------------------- 1.4/1.4 MB 99.1 kB/s eta 0:00:00\n",
            "Installing collected packages: mlxtend\n",
            "Successfully installed mlxtend-0.23.4\n",
            "Note: you may need to restart the kernel to use updated packages.\n"
          ]
        },
        {
          "name": "stderr",
          "output_type": "stream",
          "text": [
            "\n",
            "[notice] A new release of pip is available: 24.3.1 -> 25.0.1\n",
            "[notice] To update, run: python.exe -m pip install --upgrade pip\n"
          ]
        }
      ],
      "source": [
        "pip install mlxtend"
      ]
    },
    {
      "cell_type": "code",
      "execution_count": 2,
      "metadata": {
        "id": "D_zmmakTy6U7"
      },
      "outputs": [
        {
          "name": "stderr",
          "output_type": "stream",
          "text": [
            "C:\\Users\\artkh.000\\AppData\\Roaming\\Python\\Python311\\site-packages\\pandas\\core\\arrays\\masked.py:60: UserWarning: Pandas requires version '1.3.6' or newer of 'bottleneck' (version '1.3.5' currently installed).\n",
            "  from pandas.core import (\n"
          ]
        }
      ],
      "source": [
        "import pandas as pd\n",
        "from mlxtend.preprocessing import TransactionEncoder"
      ]
    },
    {
      "cell_type": "code",
      "execution_count": 3,
      "metadata": {
        "id": "LE7OyCOmofDk"
      },
      "outputs": [],
      "source": [
        "data=pd.read_csv(\"customer_basket.csv\")\n",
        "dat=data.copy()"
      ]
    },
    {
      "cell_type": "code",
      "execution_count": 4,
      "metadata": {
        "id": "Ps0AStVK2SEg"
      },
      "outputs": [],
      "source": [
        " veri=dat.iloc[:,1]\n",
        " veri=pd.DataFrame(veri)\n"
      ]
    },
    {
      "cell_type": "code",
      "execution_count": 5,
      "metadata": {
        "colab": {
          "base_uri": "https://localhost:8080/"
        },
        "id": "bxsSL_Xa9t3c",
        "outputId": "90726290-b38b-4e63-e543-72ab0570b6d7"
      },
      "outputs": [
        {
          "name": "stdout",
          "output_type": "stream",
          "text": [
            "                                           list_of_goods\n",
            "0      megaman zero 3, energy bar, pokemon violet, ai...\n",
            "1      black beer, bramble, laptop, pokemon violet, a...\n",
            "2      soup, shallot, cake, fresh bread, cream, carro...\n",
            "3      soup, cooking oil, cereals, oil, dog food, deo...\n",
            "4      eggplant, mint green tea, oil, bacon, toilet p...\n",
            "...                                                  ...\n",
            "99995  frozen smoothie, avocado, dog food, chili, cha...\n",
            "99996  cake, antioxydant juice, honey, toothpaste, to...\n",
            "99997  candy bars, spaghetti, oil, final fantasy XXII...\n",
            "99998  shallot, cereals, oil, deodorant, metroid prim...\n",
            "99999  soup, napkins, pokemon violet, ratchet & clank...\n",
            "\n",
            "[100000 rows x 1 columns]\n"
          ]
        }
      ],
      "source": [
        "import pandas as pd\n",
        "from ast import literal_eval  # Import literal_eval to safely evaluate strings containing Python expressions\n",
        "\n",
        "# Assuming 'veri' is your DataFrame with the column 'list_of_goods'\n",
        "veri['list_of_goods'] = veri['list_of_goods'].apply(lambda x: literal_eval(x) if isinstance(x, str) else x)\n",
        "\n",
        "# Convert each row to a string with comma-separated items\n",
        "veri['list_of_goods'] = veri['list_of_goods'].apply(lambda x: ', '.join(x) if isinstance(x, list) else x)\n",
        "\n",
        "print(veri)\n"
      ]
    },
    {
      "cell_type": "code",
      "execution_count": 6,
      "metadata": {
        "id": "acGsTW86633J"
      },
      "outputs": [],
      "source": [
        "veri=list(veri[\"list_of_goods\"].apply(lambda x:x.split(\",\")))"
      ]
    },
    {
      "cell_type": "code",
      "execution_count": 7,
      "metadata": {
        "id": "4lVwYrCPAgLb"
      },
      "outputs": [],
      "source": [
        "te=TransactionEncoder()\n",
        "tveri=te.fit_transform(veri)"
      ]
    },
    {
      "cell_type": "code",
      "execution_count": 8,
      "metadata": {
        "colab": {
          "base_uri": "https://localhost:8080/"
        },
        "id": "2yzDA2zkAg6l",
        "outputId": "29b661a4-c785-4eea-ae00-53a2f32e19ae"
      },
      "outputs": [
        {
          "name": "stdout",
          "output_type": "stream",
          "text": [
            "        airpods   almonds   antioxydant juice   asparagus   avocado  \\\n",
            "0          True     False               False       False     False   \n",
            "1          True     False               False       False     False   \n",
            "2         False     False               False       False     False   \n",
            "3         False     False               False       False     False   \n",
            "4         False     False               False       False     False   \n",
            "...         ...       ...                 ...         ...       ...   \n",
            "99995     False     False               False       False      True   \n",
            "99996     False     False                True       False     False   \n",
            "99997     False     False               False       False     False   \n",
            "99998     False     False               False       False     False   \n",
            "99999     False     False               False       False     False   \n",
            "\n",
            "        babies food   bacon   barbecue sauce   beer   black beer  ...  \\\n",
            "0             False   False            False  False        False  ...   \n",
            "1             False   False            False  False        False  ...   \n",
            "2              True   False            False  False        False  ...   \n",
            "3             False   False            False  False        False  ...   \n",
            "4             False    True             True  False        False  ...   \n",
            "...             ...     ...              ...    ...          ...  ...   \n",
            "99995         False   False            False  False        False  ...   \n",
            "99996         False   False            False  False        False  ...   \n",
            "99997         False   False            False  False        False  ...   \n",
            "99998         False   False            False  False        False  ...   \n",
            "99999          True   False            False  False        False  ...   \n",
            "\n",
            "       vacuum cleaner  vegetables mix  water spray  white wine  \\\n",
            "0               False           False        False       False   \n",
            "1               False           False        False       False   \n",
            "2               False           False        False       False   \n",
            "3               False           False        False       False   \n",
            "4               False           False        False       False   \n",
            "...               ...             ...          ...         ...   \n",
            "99995           False           False        False       False   \n",
            "99996           False           False        False       False   \n",
            "99997           False           False        False       False   \n",
            "99998           False           False        False       False   \n",
            "99999           False           False        False       False   \n",
            "\n",
            "       whole weat flour  whole wheat pasta  whole wheat rice   yams  \\\n",
            "0                 False              False             False  False   \n",
            "1                 False              False             False  False   \n",
            "2                 False              False             False  False   \n",
            "3                 False              False             False  False   \n",
            "4                 False              False             False  False   \n",
            "...                 ...                ...               ...    ...   \n",
            "99995             False              False             False  False   \n",
            "99996             False              False             False  False   \n",
            "99997             False              False             False  False   \n",
            "99998             False              False             False  False   \n",
            "99999             False              False             False  False   \n",
            "\n",
            "       yogurt cake  zucchini  \n",
            "0            False     False  \n",
            "1            False     False  \n",
            "2            False     False  \n",
            "3            False     False  \n",
            "4            False     False  \n",
            "...            ...       ...  \n",
            "99995        False     False  \n",
            "99996        False     False  \n",
            "99997        False     False  \n",
            "99998        False     False  \n",
            "99999        False     False  \n",
            "\n",
            "[100000 rows x 325 columns]\n"
          ]
        }
      ],
      "source": [
        "veri=pd.DataFrame(tveri,columns=te.columns_)\n",
        "print(veri)"
      ]
    },
    {
      "cell_type": "code",
      "execution_count": 9,
      "metadata": {
        "colab": {
          "base_uri": "https://localhost:8080/"
        },
        "id": "8rEX4HDBA_j8",
        "outputId": "ec33471a-86ca-4a63-f0ad-67169b68fda6"
      },
      "outputs": [
        {
          "name": "stdout",
          "output_type": "stream",
          "text": [
            "Index(['airpods', 'almonds', 'antioxydant juice', 'asparagus', 'avocado',\n",
            "       'babies food', 'bacon', 'barbecue sauce', 'beer', 'black beer',\n",
            "       ...\n",
            "       'vacuum cleaner', 'vegetables mix', 'water spray', 'white wine',\n",
            "       'whole weat flour', 'whole wheat pasta', 'whole wheat rice', 'yams',\n",
            "       'yogurt cake', 'zucchini'],\n",
            "      dtype='object', length=325)\n"
          ]
        }
      ],
      "source": [
        "veri.columns = veri.columns.str.strip()\n",
        "\n",
        "# Tüm sütun adlarını yazdır\n",
        "print(veri.columns)"
      ]
    },
    {
      "cell_type": "code",
      "execution_count": 10,
      "metadata": {
        "colab": {
          "base_uri": "https://localhost:8080/"
        },
        "id": "CqPrW25DCnER",
        "outputId": "0aad6e66-a2f6-47aa-b9c3-ae4812ab4b4a"
      },
      "outputs": [
        {
          "name": "stdout",
          "output_type": "stream",
          "text": [
            "airpods\n",
            "almonds\n",
            "antioxydant juice\n",
            "asparagus\n",
            "avocado\n",
            "babies food\n",
            "bacon\n",
            "barbecue sauce\n",
            "beer\n",
            "black beer\n",
            "black tea\n",
            "blueberries\n",
            "bluetooth headphones\n",
            "body spray\n",
            "bramble\n",
            "brownies\n",
            "burger sauce\n",
            "burgers\n",
            "butter\n",
            "cake\n",
            "candy bars\n",
            "canned_tuna\n",
            "carrots\n",
            "cat food\n",
            "catfish\n",
            "cauliflower\n",
            "cereals\n",
            "champagne\n",
            "chicken\n",
            "chili\n",
            "chocolate\n",
            "chocolate bread\n",
            "chutney\n",
            "cider\n",
            "cologne\n",
            "cookies\n",
            "cooking oil\n",
            "corn\n",
            "cottage cheese\n",
            "cotton buds\n",
            "cream\n",
            "deodorant\n",
            "dessert wine\n",
            "dog food\n",
            "eggplant\n",
            "eggs\n",
            "energy bar\n",
            "energy drink\n",
            "escalope\n",
            "extra dark chocolate\n",
            "final fantasy XIX\n",
            "final fantasy XX\n",
            "final fantasy XXII\n",
            "flax seed\n",
            "french fries\n",
            "french wine\n",
            "fresh bread\n",
            "fresh tuna\n",
            "fromage blanc\n",
            "frozen smoothie\n",
            "frozen vegetables\n",
            "gadget for tiktok streaming\n",
            "gluten free bar\n",
            "grated cheese\n",
            "green beans\n",
            "green grapes\n",
            "green tea\n",
            "ground beef\n",
            "gums\n",
            "half-life 2\n",
            "half-life: alyx\n",
            "ham\n",
            "hand protein bar\n",
            "herb & pepper\n",
            "honey\n",
            "hot dogs\n",
            "iMac\n",
            "iPad\n",
            "iphone 10\n",
            "ketchup\n",
            "laptop\n",
            "light cream\n",
            "light mayo\n",
            "low fat yogurt\n",
            "mashed potato\n",
            "mayonnaise\n",
            "meatballs\n",
            "megaman zero\n",
            "megaman zero 2\n",
            "megaman zero 3\n",
            "megaman zero 4\n",
            "melons\n",
            "metroid fusion\n",
            "metroid prime\n",
            "milk\n",
            "minecraft\n",
            "mineral water\n",
            "mint\n",
            "mint green tea\n",
            "muffins\n",
            "mushroom cream sauce\n",
            "napkins\n",
            "nonfat milk\n",
            "oatmeal\n",
            "oil\n",
            "olive oil\n",
            "pancakes\n",
            "parmesan cheese\n",
            "pasta\n",
            "pepper\n",
            "pet food\n",
            "phone car charger\n",
            "phone charger\n",
            "pickles\n",
            "pokemon scarlet\n",
            "pokemon shield\n",
            "pokemon sword\n",
            "pokemon violet\n",
            "portal\n",
            "portal 2\n",
            "protein bar\n",
            "ratchet & clank\n",
            "ratchet & clank 2\n",
            "ratchet & clank 3\n",
            "razor\n",
            "red wine\n",
            "rice\n",
            "ring light\n",
            "salad\n",
            "salmon\n",
            "salt\n",
            "samsung galaxy 10\n",
            "sandwich\n",
            "seabass\n",
            "shallot\n",
            "shampoo\n",
            "shower gel\n",
            "shrimp\n",
            "soda\n",
            "soup\n",
            "spaghetti\n",
            "sparkling water\n",
            "spinach\n",
            "strawberries\n",
            "strong cheese\n",
            "tea\n",
            "toilet paper\n",
            "tomato juice\n",
            "tomato sauce\n",
            "tomatoes\n",
            "tooth brush\n",
            "toothpaste\n",
            "trout\n",
            "turkey\n",
            "vacuum cleaner\n",
            "vegetables mix\n",
            "water spray\n",
            "white wine\n",
            "whole weat flour\n",
            "whole wheat pasta\n",
            "whole wheat rice\n",
            "yams\n",
            "yogurt cake\n",
            "zucchini\n",
            "airpods\n",
            "almonds\n",
            "antioxydant juice\n",
            "asparagus\n",
            "avocado\n",
            "babies food\n",
            "bacon\n",
            "barbecue sauce\n",
            "beer\n",
            "black beer\n",
            "black tea\n",
            "blueberries\n",
            "bluetooth headphones\n",
            "body spray\n",
            "bramble\n",
            "brownies\n",
            "burger sauce\n",
            "burgers\n",
            "butter\n",
            "cake\n",
            "candy bars\n",
            "canned_tuna\n",
            "carrots\n",
            "cat food\n",
            "catfish\n",
            "cauliflower\n",
            "cereals\n",
            "champagne\n",
            "chicken\n",
            "chili\n",
            "chocolate\n",
            "chocolate bread\n",
            "chutney\n",
            "cider\n",
            "cologne\n",
            "cookies\n",
            "cooking oil\n",
            "corn\n",
            "cottage cheese\n",
            "cotton buds\n",
            "cream\n",
            "deodorant\n",
            "dessert wine\n",
            "dog food\n",
            "eggplant\n",
            "eggs\n",
            "energy bar\n",
            "energy drink\n",
            "escalope\n",
            "final fantasy XIX\n",
            "final fantasy XX\n",
            "final fantasy XXII\n",
            "flax seed\n",
            "french fries\n",
            "french wine\n",
            "fresh bread\n",
            "fresh tuna\n",
            "fromage blanc\n",
            "frozen smoothie\n",
            "frozen vegetables\n",
            "gadget for tiktok streaming\n",
            "gluten free bar\n",
            "grated cheese\n",
            "green beans\n",
            "green grapes\n",
            "green tea\n",
            "ground beef\n",
            "gums\n",
            "half-life 2\n",
            "ham\n",
            "hand protein bar\n",
            "herb & pepper\n",
            "honey\n",
            "hot dogs\n",
            "iMac\n",
            "iPad\n",
            "iphone 10\n",
            "ketchup\n",
            "laptop\n",
            "light cream\n",
            "light mayo\n",
            "low fat yogurt\n",
            "mashed potato\n",
            "mayonnaise\n",
            "meatballs\n",
            "megaman zero\n",
            "megaman zero 2\n",
            "megaman zero 3\n",
            "megaman zero 4\n",
            "melons\n",
            "metroid fusion\n",
            "metroid prime\n",
            "milk\n",
            "minecraft\n",
            "mineral water\n",
            "mint\n",
            "mint green tea\n",
            "muffins\n",
            "mushroom cream sauce\n",
            "napkins\n",
            "nonfat milk\n",
            "oatmeal\n",
            "oil\n",
            "olive oil\n",
            "pancakes\n",
            "parmesan cheese\n",
            "pasta\n",
            "pepper\n",
            "pet food\n",
            "phone car charger\n",
            "phone charger\n",
            "pickles\n",
            "pokemon scarlet\n",
            "pokemon shield\n",
            "pokemon sword\n",
            "pokemon violet\n",
            "portal\n",
            "portal 2\n",
            "protein bar\n",
            "ratchet & clank\n",
            "ratchet & clank 2\n",
            "ratchet & clank 3\n",
            "razor\n",
            "red wine\n",
            "rice\n",
            "ring light\n",
            "salad\n",
            "salt\n",
            "samsung galaxy 10\n",
            "sandwich\n",
            "seabass\n",
            "shallot\n",
            "shampoo\n",
            "shower gel\n",
            "shrimp\n",
            "soda\n",
            "soup\n",
            "spaghetti\n",
            "sparkling water\n",
            "spinach\n",
            "strawberries\n",
            "strong cheese\n",
            "tea\n",
            "toilet paper\n",
            "tomato juice\n",
            "tomato sauce\n",
            "tomatoes\n",
            "tooth brush\n",
            "toothpaste\n",
            "trout\n",
            "turkey\n",
            "vacuum cleaner\n",
            "vegetables mix\n",
            "water spray\n",
            "white wine\n",
            "whole weat flour\n",
            "whole wheat pasta\n",
            "whole wheat rice\n",
            "yams\n",
            "yogurt cake\n",
            "zucchini\n"
          ]
        }
      ],
      "source": [
        "for sütun in veri.columns:\n",
        "    print(sütun)"
      ]
    },
    {
      "cell_type": "code",
      "execution_count": 11,
      "metadata": {
        "colab": {
          "base_uri": "https://localhost:8080/"
        },
        "id": "ZqNbIm3UC7DN",
        "outputId": "e887e7e5-cfe9-49ed-8806-2ad6548d48cf"
      },
      "outputs": [
        {
          "data": {
            "text/plain": [
              "Index(['airpods', 'almonds', 'antioxydant juice', 'asparagus', 'avocado',\n",
              "       'babies food', 'bacon', 'barbecue sauce', 'beer', 'black beer',\n",
              "       ...\n",
              "       'vacuum cleaner', 'vegetables mix', 'water spray', 'white wine',\n",
              "       'whole weat flour', 'whole wheat pasta', 'whole wheat rice', 'yams',\n",
              "       'yogurt cake', 'zucchini'],\n",
              "      dtype='object', length=164)"
            ]
          },
          "execution_count": 11,
          "metadata": {},
          "output_type": "execute_result"
        }
      ],
      "source": [
        "unique_columns = veri.columns.unique()\n",
        "unique_columns"
      ]
    },
    {
      "cell_type": "code",
      "execution_count": 12,
      "metadata": {
        "id": "vZ4zQptZDaHh"
      },
      "outputs": [],
      "source": [
        "verix = veri.loc[:,~veri.columns.duplicated()]"
      ]
    },
    {
      "cell_type": "code",
      "execution_count": 13,
      "metadata": {
        "colab": {
          "base_uri": "https://localhost:8080/"
        },
        "id": "TWRTAH14DTGI",
        "outputId": "f0483100-a350-4417-8891-fd8e25ae9c2a"
      },
      "outputs": [
        {
          "name": "stdout",
          "output_type": "stream",
          "text": [
            "       airpods  almonds  antioxydant juice  asparagus  avocado  babies food  \\\n",
            "0         True    False              False      False    False        False   \n",
            "1         True    False              False      False    False        False   \n",
            "2        False    False              False      False    False         True   \n",
            "3        False    False              False      False    False        False   \n",
            "4        False    False              False      False    False        False   \n",
            "...        ...      ...                ...        ...      ...          ...   \n",
            "99995    False    False              False      False     True        False   \n",
            "99996    False    False               True      False    False        False   \n",
            "99997    False    False              False      False    False        False   \n",
            "99998    False    False              False      False    False        False   \n",
            "99999    False    False              False      False    False         True   \n",
            "\n",
            "       bacon  barbecue sauce   beer  black beer  ...  vacuum cleaner  \\\n",
            "0      False           False  False       False  ...           False   \n",
            "1      False           False  False       False  ...           False   \n",
            "2      False           False  False       False  ...           False   \n",
            "3      False           False  False       False  ...           False   \n",
            "4       True            True  False       False  ...           False   \n",
            "...      ...             ...    ...         ...  ...             ...   \n",
            "99995  False           False  False       False  ...           False   \n",
            "99996  False           False  False       False  ...           False   \n",
            "99997  False           False  False       False  ...           False   \n",
            "99998  False           False  False       False  ...            True   \n",
            "99999  False           False  False       False  ...           False   \n",
            "\n",
            "       vegetables mix  water spray  white wine  whole weat flour  \\\n",
            "0               False        False       False             False   \n",
            "1               False        False       False             False   \n",
            "2               False        False       False             False   \n",
            "3               False        False       False             False   \n",
            "4               False        False       False             False   \n",
            "...               ...          ...         ...               ...   \n",
            "99995           False        False       False             False   \n",
            "99996           False        False       False             False   \n",
            "99997           False        False       False             False   \n",
            "99998           False        False       False             False   \n",
            "99999           False        False       False             False   \n",
            "\n",
            "       whole wheat pasta  whole wheat rice   yams  yogurt cake  zucchini  \n",
            "0                  False             False  False        False     False  \n",
            "1                  False             False  False        False     False  \n",
            "2                  False             False  False        False     False  \n",
            "3                  False             False  False         True     False  \n",
            "4                  False             False  False        False     False  \n",
            "...                  ...               ...    ...          ...       ...  \n",
            "99995              False             False  False        False     False  \n",
            "99996              False             False  False        False     False  \n",
            "99997              False             False  False        False     False  \n",
            "99998              False             False  False        False     False  \n",
            "99999              False             False  False        False     False  \n",
            "\n",
            "[100000 rows x 164 columns]\n"
          ]
        }
      ],
      "source": [
        "print(verix)"
      ]
    },
    {
      "cell_type": "code",
      "execution_count": 14,
      "metadata": {
        "id": "FgWrNFvaDUZH"
      },
      "outputs": [],
      "source": [
        "from mlxtend.frequent_patterns import apriori,association_rules"
      ]
    },
    {
      "cell_type": "code",
      "execution_count": 15,
      "metadata": {
        "colab": {
          "base_uri": "https://localhost:8080/"
        },
        "id": "hZ7n9INbEYIy",
        "outputId": "41e55fed-e570-4555-ce86-e7bde78abaaa"
      },
      "outputs": [
        {
          "name": "stdout",
          "output_type": "stream",
          "text": [
            "    support            itemsets\n",
            "0   0.06961           (airpods)\n",
            "1   0.15556         (asparagus)\n",
            "2   0.06804           (avocado)\n",
            "3   0.17881       (babies food)\n",
            "4   0.10144    (barbecue sauce)\n",
            "..      ...                 ...\n",
            "62  0.06113      (cologne, oil)\n",
            "63  0.13718  (oil, cooking oil)\n",
            "64  0.05473  (tea, cooking oil)\n",
            "65  0.05268         (oil, gums)\n",
            "66  0.07482          (tea, oil)\n",
            "\n",
            "[67 rows x 2 columns]\n"
          ]
        }
      ],
      "source": [
        "df1=apriori(verix,min_support=0.05,use_colnames=True)\n",
        "print(df1)"
      ]
    },
    {
      "cell_type": "code",
      "execution_count": 16,
      "metadata": {
        "colab": {
          "base_uri": "https://localhost:8080/",
          "height": 1000
        },
        "id": "f5Zc1484Eqip",
        "outputId": "1700ca92-e7ce-4604-e40d-54af28cd4492"
      },
      "outputs": [
        {
          "data": {
            "text/html": [
              "<div>\n",
              "<style scoped>\n",
              "    .dataframe tbody tr th:only-of-type {\n",
              "        vertical-align: middle;\n",
              "    }\n",
              "\n",
              "    .dataframe tbody tr th {\n",
              "        vertical-align: top;\n",
              "    }\n",
              "\n",
              "    .dataframe thead th {\n",
              "        text-align: right;\n",
              "    }\n",
              "</style>\n",
              "<table border=\"1\" class=\"dataframe\">\n",
              "  <thead>\n",
              "    <tr style=\"text-align: right;\">\n",
              "      <th></th>\n",
              "      <th>support</th>\n",
              "      <th>itemsets</th>\n",
              "    </tr>\n",
              "  </thead>\n",
              "  <tbody>\n",
              "    <tr>\n",
              "      <th>37</th>\n",
              "      <td>0.32830</td>\n",
              "      <td>(oil)</td>\n",
              "    </tr>\n",
              "    <tr>\n",
              "      <th>14</th>\n",
              "      <td>0.24476</td>\n",
              "      <td>(cooking oil)</td>\n",
              "    </tr>\n",
              "    <tr>\n",
              "      <th>3</th>\n",
              "      <td>0.17881</td>\n",
              "      <td>(babies food)</td>\n",
              "    </tr>\n",
              "    <tr>\n",
              "      <th>1</th>\n",
              "      <td>0.15556</td>\n",
              "      <td>(asparagus)</td>\n",
              "    </tr>\n",
              "    <tr>\n",
              "      <th>49</th>\n",
              "      <td>0.14232</td>\n",
              "      <td>(tomatoes)</td>\n",
              "    </tr>\n",
              "    <tr>\n",
              "      <th>63</th>\n",
              "      <td>0.13718</td>\n",
              "      <td>(oil, cooking oil)</td>\n",
              "    </tr>\n",
              "    <tr>\n",
              "      <th>10</th>\n",
              "      <td>0.13621</td>\n",
              "      <td>(champagne)</td>\n",
              "    </tr>\n",
              "    <tr>\n",
              "      <th>22</th>\n",
              "      <td>0.12801</td>\n",
              "      <td>(fresh tuna)</td>\n",
              "    </tr>\n",
              "    <tr>\n",
              "      <th>43</th>\n",
              "      <td>0.11523</td>\n",
              "      <td>(ratchet &amp; clank)</td>\n",
              "    </tr>\n",
              "    <tr>\n",
              "      <th>47</th>\n",
              "      <td>0.10948</td>\n",
              "      <td>(tea)</td>\n",
              "    </tr>\n",
              "    <tr>\n",
              "      <th>9</th>\n",
              "      <td>0.10916</td>\n",
              "      <td>(carrots)</td>\n",
              "    </tr>\n",
              "    <tr>\n",
              "      <th>4</th>\n",
              "      <td>0.10144</td>\n",
              "      <td>(barbecue sauce)</td>\n",
              "    </tr>\n",
              "    <tr>\n",
              "      <th>12</th>\n",
              "      <td>0.09985</td>\n",
              "      <td>(cologne)</td>\n",
              "    </tr>\n",
              "    <tr>\n",
              "      <th>33</th>\n",
              "      <td>0.09469</td>\n",
              "      <td>(minecraft)</td>\n",
              "    </tr>\n",
              "    <tr>\n",
              "      <th>8</th>\n",
              "      <td>0.09414</td>\n",
              "      <td>(cake)</td>\n",
              "    </tr>\n",
              "    <tr>\n",
              "      <th>40</th>\n",
              "      <td>0.09211</td>\n",
              "      <td>(pet food)</td>\n",
              "    </tr>\n",
              "    <tr>\n",
              "      <th>21</th>\n",
              "      <td>0.08846</td>\n",
              "      <td>(fresh bread)</td>\n",
              "    </tr>\n",
              "    <tr>\n",
              "      <th>6</th>\n",
              "      <td>0.08700</td>\n",
              "      <td>(bluetooth headphones)</td>\n",
              "    </tr>\n",
              "    <tr>\n",
              "      <th>27</th>\n",
              "      <td>0.08557</td>\n",
              "      <td>(gums)</td>\n",
              "    </tr>\n",
              "    <tr>\n",
              "      <th>17</th>\n",
              "      <td>0.08429</td>\n",
              "      <td>(energy drink)</td>\n",
              "    </tr>\n",
              "    <tr>\n",
              "      <th>35</th>\n",
              "      <td>0.08425</td>\n",
              "      <td>(muffins)</td>\n",
              "    </tr>\n",
              "    <tr>\n",
              "      <th>50</th>\n",
              "      <td>0.08200</td>\n",
              "      <td>(white wine)</td>\n",
              "    </tr>\n",
              "    <tr>\n",
              "      <th>28</th>\n",
              "      <td>0.08112</td>\n",
              "      <td>(ham)</td>\n",
              "    </tr>\n",
              "    <tr>\n",
              "      <th>16</th>\n",
              "      <td>0.08026</td>\n",
              "      <td>(deodorant)</td>\n",
              "    </tr>\n",
              "    <tr>\n",
              "      <th>56</th>\n",
              "      <td>0.07861</td>\n",
              "      <td>(ratchet &amp; clank, babies food)</td>\n",
              "    </tr>\n",
              "    <tr>\n",
              "      <th>11</th>\n",
              "      <td>0.07818</td>\n",
              "      <td>(chicken)</td>\n",
              "    </tr>\n",
              "    <tr>\n",
              "      <th>53</th>\n",
              "      <td>0.07701</td>\n",
              "      <td>(tomatoes, asparagus)</td>\n",
              "    </tr>\n",
              "    <tr>\n",
              "      <th>36</th>\n",
              "      <td>0.07652</td>\n",
              "      <td>(napkins)</td>\n",
              "    </tr>\n",
              "    <tr>\n",
              "      <th>66</th>\n",
              "      <td>0.07482</td>\n",
              "      <td>(tea, oil)</td>\n",
              "    </tr>\n",
              "    <tr>\n",
              "      <th>57</th>\n",
              "      <td>0.07171</td>\n",
              "      <td>(oil, barbecue sauce)</td>\n",
              "    </tr>\n",
              "  </tbody>\n",
              "</table>\n",
              "</div>"
            ],
            "text/plain": [
              "    support                        itemsets\n",
              "37  0.32830                           (oil)\n",
              "14  0.24476                   (cooking oil)\n",
              "3   0.17881                   (babies food)\n",
              "1   0.15556                     (asparagus)\n",
              "49  0.14232                      (tomatoes)\n",
              "63  0.13718              (oil, cooking oil)\n",
              "10  0.13621                     (champagne)\n",
              "22  0.12801                    (fresh tuna)\n",
              "43  0.11523               (ratchet & clank)\n",
              "47  0.10948                           (tea)\n",
              "9   0.10916                       (carrots)\n",
              "4   0.10144                (barbecue sauce)\n",
              "12  0.09985                       (cologne)\n",
              "33  0.09469                     (minecraft)\n",
              "8   0.09414                          (cake)\n",
              "40  0.09211                      (pet food)\n",
              "21  0.08846                   (fresh bread)\n",
              "6   0.08700          (bluetooth headphones)\n",
              "27  0.08557                          (gums)\n",
              "17  0.08429                  (energy drink)\n",
              "35  0.08425                       (muffins)\n",
              "50  0.08200                    (white wine)\n",
              "28  0.08112                           (ham)\n",
              "16  0.08026                     (deodorant)\n",
              "56  0.07861  (ratchet & clank, babies food)\n",
              "11  0.07818                       (chicken)\n",
              "53  0.07701           (tomatoes, asparagus)\n",
              "36  0.07652                       (napkins)\n",
              "66  0.07482                      (tea, oil)\n",
              "57  0.07171           (oil, barbecue sauce)"
            ]
          },
          "execution_count": 16,
          "metadata": {},
          "output_type": "execute_result"
        }
      ],
      "source": [
        "df1_sorted = df1.sort_values(by='support', ascending=False)\n",
        "df1_sorted.head(30)"
      ]
    },
    {
      "cell_type": "code",
      "execution_count": 17,
      "metadata": {
        "colab": {
          "base_uri": "https://localhost:8080/"
        },
        "id": "iFUKUPc5FIBX",
        "outputId": "14d2879b-77ea-4e64-931a-6f3e4ef29387"
      },
      "outputs": [
        {
          "name": "stdout",
          "output_type": "stream",
          "text": [
            "               antecedents             consequents  antecedent support  \\\n",
            "0              (asparagus)               (carrots)             0.15556   \n",
            "1                (carrots)             (asparagus)             0.10916   \n",
            "2               (tomatoes)             (asparagus)             0.14232   \n",
            "3              (asparagus)              (tomatoes)             0.15556   \n",
            "4            (babies food)           (cooking oil)             0.17881   \n",
            "5            (babies food)             (minecraft)             0.17881   \n",
            "6              (minecraft)           (babies food)             0.09469   \n",
            "7        (ratchet & clank)           (babies food)             0.11523   \n",
            "8            (babies food)       (ratchet & clank)             0.17881   \n",
            "9         (barbecue sauce)                   (oil)             0.10144   \n",
            "10  (bluetooth headphones)             (champagne)             0.08700   \n",
            "11             (champagne)  (bluetooth headphones)             0.13621   \n",
            "12                  (cake)                   (oil)             0.09414   \n",
            "13              (tomatoes)               (carrots)             0.14232   \n",
            "14               (carrots)              (tomatoes)             0.10916   \n",
            "15            (fresh tuna)             (champagne)             0.12801   \n",
            "16             (champagne)            (fresh tuna)             0.13621   \n",
            "17               (cologne)                   (oil)             0.09985   \n",
            "18                   (oil)           (cooking oil)             0.32830   \n",
            "19           (cooking oil)                   (oil)             0.24476   \n",
            "20                   (tea)           (cooking oil)             0.10948   \n",
            "21                  (gums)                   (oil)             0.08557   \n",
            "22                   (tea)                   (oil)             0.10948   \n",
            "\n",
            "    consequent support  support  confidence      lift  representativity  \\\n",
            "0              0.10916  0.05734    0.368604  3.376729               1.0   \n",
            "1              0.15556  0.05734    0.525284  3.376729               1.0   \n",
            "2              0.15556  0.07701    0.541105  3.478430               1.0   \n",
            "3              0.14232  0.07701    0.495050  3.478430               1.0   \n",
            "4              0.24476  0.06451    0.360774  1.473991               1.0   \n",
            "5              0.09469  0.06321    0.353504  3.733274               1.0   \n",
            "6              0.17881  0.06321    0.667547  3.733274               1.0   \n",
            "7              0.17881  0.07861    0.682201  3.815227               1.0   \n",
            "8              0.11523  0.07861    0.439629  3.815227               1.0   \n",
            "9              0.32830  0.07171    0.706920  2.153276               1.0   \n",
            "10             0.13621  0.05053    0.580805  4.264038               1.0   \n",
            "11             0.08700  0.05053    0.370971  4.264038               1.0   \n",
            "12             0.32830  0.06676    0.709157  2.160087               1.0   \n",
            "13             0.10916  0.06505    0.457069  4.187143               1.0   \n",
            "14             0.14232  0.06505    0.595914  4.187143               1.0   \n",
            "15             0.13621  0.06190    0.483556  3.550077               1.0   \n",
            "16             0.12801  0.06190    0.454445  3.550077               1.0   \n",
            "17             0.32830  0.06113    0.612218  1.864814               1.0   \n",
            "18             0.24476  0.13718    0.417850  1.707181               1.0   \n",
            "19             0.32830  0.13718    0.560467  1.707181               1.0   \n",
            "20             0.24476  0.05473    0.499909  2.042444               1.0   \n",
            "21             0.32830  0.05268    0.615636  1.875225               1.0   \n",
            "22             0.32830  0.07482    0.683412  2.081671               1.0   \n",
            "\n",
            "    leverage  conviction  zhangs_metric   jaccard  certainty  kulczynski  \n",
            "0   0.040359    1.410905       0.833517  0.276497   0.291235    0.446944  \n",
            "1   0.040359    1.778832       0.790103  0.276497   0.437833    0.446944  \n",
            "2   0.054871    1.840158       0.830746  0.348667   0.456568    0.518077  \n",
            "3   0.054871    1.698545       0.843771  0.348667   0.411261    0.518077  \n",
            "4   0.020744    1.181491       0.391590  0.179664   0.153612    0.312169  \n",
            "5   0.046278    1.400333       0.891558  0.300585   0.285884    0.510525  \n",
            "6   0.046278    2.470092       0.808716  0.300585   0.595157    0.510525  \n",
            "7   0.058006    2.583990       0.833993  0.364898   0.613002    0.560915  \n",
            "8   0.058006    1.578899       0.898565  0.364898   0.366647    0.560915  \n",
            "9   0.038407    2.291868       0.596055  0.200290   0.563675    0.462674  \n",
            "10  0.038680    2.060590       0.838423  0.292622   0.514702    0.475888  \n",
            "11  0.038680    1.451444       0.886188  0.292622   0.311031    0.475888  \n",
            "12  0.035854    2.309490       0.592868  0.187697   0.567004    0.456254  \n",
            "13  0.049514    1.640797       0.887480  0.348925   0.390540    0.526491  \n",
            "14  0.049514    2.122520       0.854445  0.348925   0.528862    0.526491  \n",
            "15  0.044464    1.672572       0.823766  0.305951   0.402119    0.469001  \n",
            "16  0.044464    1.598355       0.831586  0.305951   0.374357    0.469001  \n",
            "17  0.028349    1.732160       0.515196  0.166558   0.422686    0.399210  \n",
            "18  0.056825    1.297328       0.616702  0.314720   0.229185    0.489158  \n",
            "19  0.056825    1.528214       0.548486  0.314720   0.345642    0.489158  \n",
            "20  0.027934    1.510204       0.573138  0.182732   0.337838    0.361758  \n",
            "21  0.024587    1.747564       0.510406  0.145851   0.427775    0.388050  \n",
            "22  0.038878    2.121688       0.583498  0.206138   0.528677    0.455657  \n"
          ]
        }
      ],
      "source": [
        "df2=association_rules(df1,metric=\"confidence\",min_threshold=0.3)\n",
        "print(df2)"
      ]
    },
    {
      "cell_type": "code",
      "execution_count": 18,
      "metadata": {
        "colab": {
          "base_uri": "https://localhost:8080/",
          "height": 1000
        },
        "id": "mnU3ZWpIFuVV",
        "outputId": "d3d8d49b-fd2f-4c21-ecd7-5122867b4bec"
      },
      "outputs": [
        {
          "data": {
            "text/html": [
              "<div>\n",
              "<style scoped>\n",
              "    .dataframe tbody tr th:only-of-type {\n",
              "        vertical-align: middle;\n",
              "    }\n",
              "\n",
              "    .dataframe tbody tr th {\n",
              "        vertical-align: top;\n",
              "    }\n",
              "\n",
              "    .dataframe thead th {\n",
              "        text-align: right;\n",
              "    }\n",
              "</style>\n",
              "<table border=\"1\" class=\"dataframe\">\n",
              "  <thead>\n",
              "    <tr style=\"text-align: right;\">\n",
              "      <th></th>\n",
              "      <th>antecedents</th>\n",
              "      <th>consequents</th>\n",
              "      <th>antecedent support</th>\n",
              "      <th>consequent support</th>\n",
              "      <th>support</th>\n",
              "      <th>confidence</th>\n",
              "      <th>lift</th>\n",
              "      <th>representativity</th>\n",
              "      <th>leverage</th>\n",
              "      <th>conviction</th>\n",
              "      <th>zhangs_metric</th>\n",
              "      <th>jaccard</th>\n",
              "      <th>certainty</th>\n",
              "      <th>kulczynski</th>\n",
              "    </tr>\n",
              "  </thead>\n",
              "  <tbody>\n",
              "    <tr>\n",
              "      <th>12</th>\n",
              "      <td>(cake)</td>\n",
              "      <td>(oil)</td>\n",
              "      <td>0.09414</td>\n",
              "      <td>0.32830</td>\n",
              "      <td>0.06676</td>\n",
              "      <td>0.709157</td>\n",
              "      <td>2.160087</td>\n",
              "      <td>1.0</td>\n",
              "      <td>0.035854</td>\n",
              "      <td>2.309490</td>\n",
              "      <td>0.592868</td>\n",
              "      <td>0.187697</td>\n",
              "      <td>0.567004</td>\n",
              "      <td>0.456254</td>\n",
              "    </tr>\n",
              "    <tr>\n",
              "      <th>9</th>\n",
              "      <td>(barbecue sauce)</td>\n",
              "      <td>(oil)</td>\n",
              "      <td>0.10144</td>\n",
              "      <td>0.32830</td>\n",
              "      <td>0.07171</td>\n",
              "      <td>0.706920</td>\n",
              "      <td>2.153276</td>\n",
              "      <td>1.0</td>\n",
              "      <td>0.038407</td>\n",
              "      <td>2.291868</td>\n",
              "      <td>0.596055</td>\n",
              "      <td>0.200290</td>\n",
              "      <td>0.563675</td>\n",
              "      <td>0.462674</td>\n",
              "    </tr>\n",
              "    <tr>\n",
              "      <th>22</th>\n",
              "      <td>(tea)</td>\n",
              "      <td>(oil)</td>\n",
              "      <td>0.10948</td>\n",
              "      <td>0.32830</td>\n",
              "      <td>0.07482</td>\n",
              "      <td>0.683412</td>\n",
              "      <td>2.081671</td>\n",
              "      <td>1.0</td>\n",
              "      <td>0.038878</td>\n",
              "      <td>2.121688</td>\n",
              "      <td>0.583498</td>\n",
              "      <td>0.206138</td>\n",
              "      <td>0.528677</td>\n",
              "      <td>0.455657</td>\n",
              "    </tr>\n",
              "    <tr>\n",
              "      <th>7</th>\n",
              "      <td>(ratchet &amp; clank)</td>\n",
              "      <td>(babies food)</td>\n",
              "      <td>0.11523</td>\n",
              "      <td>0.17881</td>\n",
              "      <td>0.07861</td>\n",
              "      <td>0.682201</td>\n",
              "      <td>3.815227</td>\n",
              "      <td>1.0</td>\n",
              "      <td>0.058006</td>\n",
              "      <td>2.583990</td>\n",
              "      <td>0.833993</td>\n",
              "      <td>0.364898</td>\n",
              "      <td>0.613002</td>\n",
              "      <td>0.560915</td>\n",
              "    </tr>\n",
              "    <tr>\n",
              "      <th>6</th>\n",
              "      <td>(minecraft)</td>\n",
              "      <td>(babies food)</td>\n",
              "      <td>0.09469</td>\n",
              "      <td>0.17881</td>\n",
              "      <td>0.06321</td>\n",
              "      <td>0.667547</td>\n",
              "      <td>3.733274</td>\n",
              "      <td>1.0</td>\n",
              "      <td>0.046278</td>\n",
              "      <td>2.470092</td>\n",
              "      <td>0.808716</td>\n",
              "      <td>0.300585</td>\n",
              "      <td>0.595157</td>\n",
              "      <td>0.510525</td>\n",
              "    </tr>\n",
              "    <tr>\n",
              "      <th>21</th>\n",
              "      <td>(gums)</td>\n",
              "      <td>(oil)</td>\n",
              "      <td>0.08557</td>\n",
              "      <td>0.32830</td>\n",
              "      <td>0.05268</td>\n",
              "      <td>0.615636</td>\n",
              "      <td>1.875225</td>\n",
              "      <td>1.0</td>\n",
              "      <td>0.024587</td>\n",
              "      <td>1.747564</td>\n",
              "      <td>0.510406</td>\n",
              "      <td>0.145851</td>\n",
              "      <td>0.427775</td>\n",
              "      <td>0.388050</td>\n",
              "    </tr>\n",
              "    <tr>\n",
              "      <th>17</th>\n",
              "      <td>(cologne)</td>\n",
              "      <td>(oil)</td>\n",
              "      <td>0.09985</td>\n",
              "      <td>0.32830</td>\n",
              "      <td>0.06113</td>\n",
              "      <td>0.612218</td>\n",
              "      <td>1.864814</td>\n",
              "      <td>1.0</td>\n",
              "      <td>0.028349</td>\n",
              "      <td>1.732160</td>\n",
              "      <td>0.515196</td>\n",
              "      <td>0.166558</td>\n",
              "      <td>0.422686</td>\n",
              "      <td>0.399210</td>\n",
              "    </tr>\n",
              "    <tr>\n",
              "      <th>14</th>\n",
              "      <td>(carrots)</td>\n",
              "      <td>(tomatoes)</td>\n",
              "      <td>0.10916</td>\n",
              "      <td>0.14232</td>\n",
              "      <td>0.06505</td>\n",
              "      <td>0.595914</td>\n",
              "      <td>4.187143</td>\n",
              "      <td>1.0</td>\n",
              "      <td>0.049514</td>\n",
              "      <td>2.122520</td>\n",
              "      <td>0.854445</td>\n",
              "      <td>0.348925</td>\n",
              "      <td>0.528862</td>\n",
              "      <td>0.526491</td>\n",
              "    </tr>\n",
              "    <tr>\n",
              "      <th>10</th>\n",
              "      <td>(bluetooth headphones)</td>\n",
              "      <td>(champagne)</td>\n",
              "      <td>0.08700</td>\n",
              "      <td>0.13621</td>\n",
              "      <td>0.05053</td>\n",
              "      <td>0.580805</td>\n",
              "      <td>4.264038</td>\n",
              "      <td>1.0</td>\n",
              "      <td>0.038680</td>\n",
              "      <td>2.060590</td>\n",
              "      <td>0.838423</td>\n",
              "      <td>0.292622</td>\n",
              "      <td>0.514702</td>\n",
              "      <td>0.475888</td>\n",
              "    </tr>\n",
              "    <tr>\n",
              "      <th>19</th>\n",
              "      <td>(cooking oil)</td>\n",
              "      <td>(oil)</td>\n",
              "      <td>0.24476</td>\n",
              "      <td>0.32830</td>\n",
              "      <td>0.13718</td>\n",
              "      <td>0.560467</td>\n",
              "      <td>1.707181</td>\n",
              "      <td>1.0</td>\n",
              "      <td>0.056825</td>\n",
              "      <td>1.528214</td>\n",
              "      <td>0.548486</td>\n",
              "      <td>0.314720</td>\n",
              "      <td>0.345642</td>\n",
              "      <td>0.489158</td>\n",
              "    </tr>\n",
              "    <tr>\n",
              "      <th>2</th>\n",
              "      <td>(tomatoes)</td>\n",
              "      <td>(asparagus)</td>\n",
              "      <td>0.14232</td>\n",
              "      <td>0.15556</td>\n",
              "      <td>0.07701</td>\n",
              "      <td>0.541105</td>\n",
              "      <td>3.478430</td>\n",
              "      <td>1.0</td>\n",
              "      <td>0.054871</td>\n",
              "      <td>1.840158</td>\n",
              "      <td>0.830746</td>\n",
              "      <td>0.348667</td>\n",
              "      <td>0.456568</td>\n",
              "      <td>0.518077</td>\n",
              "    </tr>\n",
              "    <tr>\n",
              "      <th>1</th>\n",
              "      <td>(carrots)</td>\n",
              "      <td>(asparagus)</td>\n",
              "      <td>0.10916</td>\n",
              "      <td>0.15556</td>\n",
              "      <td>0.05734</td>\n",
              "      <td>0.525284</td>\n",
              "      <td>3.376729</td>\n",
              "      <td>1.0</td>\n",
              "      <td>0.040359</td>\n",
              "      <td>1.778832</td>\n",
              "      <td>0.790103</td>\n",
              "      <td>0.276497</td>\n",
              "      <td>0.437833</td>\n",
              "      <td>0.446944</td>\n",
              "    </tr>\n",
              "    <tr>\n",
              "      <th>20</th>\n",
              "      <td>(tea)</td>\n",
              "      <td>(cooking oil)</td>\n",
              "      <td>0.10948</td>\n",
              "      <td>0.24476</td>\n",
              "      <td>0.05473</td>\n",
              "      <td>0.499909</td>\n",
              "      <td>2.042444</td>\n",
              "      <td>1.0</td>\n",
              "      <td>0.027934</td>\n",
              "      <td>1.510204</td>\n",
              "      <td>0.573138</td>\n",
              "      <td>0.182732</td>\n",
              "      <td>0.337838</td>\n",
              "      <td>0.361758</td>\n",
              "    </tr>\n",
              "    <tr>\n",
              "      <th>3</th>\n",
              "      <td>(asparagus)</td>\n",
              "      <td>(tomatoes)</td>\n",
              "      <td>0.15556</td>\n",
              "      <td>0.14232</td>\n",
              "      <td>0.07701</td>\n",
              "      <td>0.495050</td>\n",
              "      <td>3.478430</td>\n",
              "      <td>1.0</td>\n",
              "      <td>0.054871</td>\n",
              "      <td>1.698545</td>\n",
              "      <td>0.843771</td>\n",
              "      <td>0.348667</td>\n",
              "      <td>0.411261</td>\n",
              "      <td>0.518077</td>\n",
              "    </tr>\n",
              "    <tr>\n",
              "      <th>15</th>\n",
              "      <td>(fresh tuna)</td>\n",
              "      <td>(champagne)</td>\n",
              "      <td>0.12801</td>\n",
              "      <td>0.13621</td>\n",
              "      <td>0.06190</td>\n",
              "      <td>0.483556</td>\n",
              "      <td>3.550077</td>\n",
              "      <td>1.0</td>\n",
              "      <td>0.044464</td>\n",
              "      <td>1.672572</td>\n",
              "      <td>0.823766</td>\n",
              "      <td>0.305951</td>\n",
              "      <td>0.402119</td>\n",
              "      <td>0.469001</td>\n",
              "    </tr>\n",
              "    <tr>\n",
              "      <th>13</th>\n",
              "      <td>(tomatoes)</td>\n",
              "      <td>(carrots)</td>\n",
              "      <td>0.14232</td>\n",
              "      <td>0.10916</td>\n",
              "      <td>0.06505</td>\n",
              "      <td>0.457069</td>\n",
              "      <td>4.187143</td>\n",
              "      <td>1.0</td>\n",
              "      <td>0.049514</td>\n",
              "      <td>1.640797</td>\n",
              "      <td>0.887480</td>\n",
              "      <td>0.348925</td>\n",
              "      <td>0.390540</td>\n",
              "      <td>0.526491</td>\n",
              "    </tr>\n",
              "    <tr>\n",
              "      <th>16</th>\n",
              "      <td>(champagne)</td>\n",
              "      <td>(fresh tuna)</td>\n",
              "      <td>0.13621</td>\n",
              "      <td>0.12801</td>\n",
              "      <td>0.06190</td>\n",
              "      <td>0.454445</td>\n",
              "      <td>3.550077</td>\n",
              "      <td>1.0</td>\n",
              "      <td>0.044464</td>\n",
              "      <td>1.598355</td>\n",
              "      <td>0.831586</td>\n",
              "      <td>0.305951</td>\n",
              "      <td>0.374357</td>\n",
              "      <td>0.469001</td>\n",
              "    </tr>\n",
              "    <tr>\n",
              "      <th>8</th>\n",
              "      <td>(babies food)</td>\n",
              "      <td>(ratchet &amp; clank)</td>\n",
              "      <td>0.17881</td>\n",
              "      <td>0.11523</td>\n",
              "      <td>0.07861</td>\n",
              "      <td>0.439629</td>\n",
              "      <td>3.815227</td>\n",
              "      <td>1.0</td>\n",
              "      <td>0.058006</td>\n",
              "      <td>1.578899</td>\n",
              "      <td>0.898565</td>\n",
              "      <td>0.364898</td>\n",
              "      <td>0.366647</td>\n",
              "      <td>0.560915</td>\n",
              "    </tr>\n",
              "    <tr>\n",
              "      <th>18</th>\n",
              "      <td>(oil)</td>\n",
              "      <td>(cooking oil)</td>\n",
              "      <td>0.32830</td>\n",
              "      <td>0.24476</td>\n",
              "      <td>0.13718</td>\n",
              "      <td>0.417850</td>\n",
              "      <td>1.707181</td>\n",
              "      <td>1.0</td>\n",
              "      <td>0.056825</td>\n",
              "      <td>1.297328</td>\n",
              "      <td>0.616702</td>\n",
              "      <td>0.314720</td>\n",
              "      <td>0.229185</td>\n",
              "      <td>0.489158</td>\n",
              "    </tr>\n",
              "    <tr>\n",
              "      <th>11</th>\n",
              "      <td>(champagne)</td>\n",
              "      <td>(bluetooth headphones)</td>\n",
              "      <td>0.13621</td>\n",
              "      <td>0.08700</td>\n",
              "      <td>0.05053</td>\n",
              "      <td>0.370971</td>\n",
              "      <td>4.264038</td>\n",
              "      <td>1.0</td>\n",
              "      <td>0.038680</td>\n",
              "      <td>1.451444</td>\n",
              "      <td>0.886188</td>\n",
              "      <td>0.292622</td>\n",
              "      <td>0.311031</td>\n",
              "      <td>0.475888</td>\n",
              "    </tr>\n",
              "    <tr>\n",
              "      <th>0</th>\n",
              "      <td>(asparagus)</td>\n",
              "      <td>(carrots)</td>\n",
              "      <td>0.15556</td>\n",
              "      <td>0.10916</td>\n",
              "      <td>0.05734</td>\n",
              "      <td>0.368604</td>\n",
              "      <td>3.376729</td>\n",
              "      <td>1.0</td>\n",
              "      <td>0.040359</td>\n",
              "      <td>1.410905</td>\n",
              "      <td>0.833517</td>\n",
              "      <td>0.276497</td>\n",
              "      <td>0.291235</td>\n",
              "      <td>0.446944</td>\n",
              "    </tr>\n",
              "    <tr>\n",
              "      <th>4</th>\n",
              "      <td>(babies food)</td>\n",
              "      <td>(cooking oil)</td>\n",
              "      <td>0.17881</td>\n",
              "      <td>0.24476</td>\n",
              "      <td>0.06451</td>\n",
              "      <td>0.360774</td>\n",
              "      <td>1.473991</td>\n",
              "      <td>1.0</td>\n",
              "      <td>0.020744</td>\n",
              "      <td>1.181491</td>\n",
              "      <td>0.391590</td>\n",
              "      <td>0.179664</td>\n",
              "      <td>0.153612</td>\n",
              "      <td>0.312169</td>\n",
              "    </tr>\n",
              "    <tr>\n",
              "      <th>5</th>\n",
              "      <td>(babies food)</td>\n",
              "      <td>(minecraft)</td>\n",
              "      <td>0.17881</td>\n",
              "      <td>0.09469</td>\n",
              "      <td>0.06321</td>\n",
              "      <td>0.353504</td>\n",
              "      <td>3.733274</td>\n",
              "      <td>1.0</td>\n",
              "      <td>0.046278</td>\n",
              "      <td>1.400333</td>\n",
              "      <td>0.891558</td>\n",
              "      <td>0.300585</td>\n",
              "      <td>0.285884</td>\n",
              "      <td>0.510525</td>\n",
              "    </tr>\n",
              "  </tbody>\n",
              "</table>\n",
              "</div>"
            ],
            "text/plain": [
              "               antecedents             consequents  antecedent support  \\\n",
              "12                  (cake)                   (oil)             0.09414   \n",
              "9         (barbecue sauce)                   (oil)             0.10144   \n",
              "22                   (tea)                   (oil)             0.10948   \n",
              "7        (ratchet & clank)           (babies food)             0.11523   \n",
              "6              (minecraft)           (babies food)             0.09469   \n",
              "21                  (gums)                   (oil)             0.08557   \n",
              "17               (cologne)                   (oil)             0.09985   \n",
              "14               (carrots)              (tomatoes)             0.10916   \n",
              "10  (bluetooth headphones)             (champagne)             0.08700   \n",
              "19           (cooking oil)                   (oil)             0.24476   \n",
              "2               (tomatoes)             (asparagus)             0.14232   \n",
              "1                (carrots)             (asparagus)             0.10916   \n",
              "20                   (tea)           (cooking oil)             0.10948   \n",
              "3              (asparagus)              (tomatoes)             0.15556   \n",
              "15            (fresh tuna)             (champagne)             0.12801   \n",
              "13              (tomatoes)               (carrots)             0.14232   \n",
              "16             (champagne)            (fresh tuna)             0.13621   \n",
              "8            (babies food)       (ratchet & clank)             0.17881   \n",
              "18                   (oil)           (cooking oil)             0.32830   \n",
              "11             (champagne)  (bluetooth headphones)             0.13621   \n",
              "0              (asparagus)               (carrots)             0.15556   \n",
              "4            (babies food)           (cooking oil)             0.17881   \n",
              "5            (babies food)             (minecraft)             0.17881   \n",
              "\n",
              "    consequent support  support  confidence      lift  representativity  \\\n",
              "12             0.32830  0.06676    0.709157  2.160087               1.0   \n",
              "9              0.32830  0.07171    0.706920  2.153276               1.0   \n",
              "22             0.32830  0.07482    0.683412  2.081671               1.0   \n",
              "7              0.17881  0.07861    0.682201  3.815227               1.0   \n",
              "6              0.17881  0.06321    0.667547  3.733274               1.0   \n",
              "21             0.32830  0.05268    0.615636  1.875225               1.0   \n",
              "17             0.32830  0.06113    0.612218  1.864814               1.0   \n",
              "14             0.14232  0.06505    0.595914  4.187143               1.0   \n",
              "10             0.13621  0.05053    0.580805  4.264038               1.0   \n",
              "19             0.32830  0.13718    0.560467  1.707181               1.0   \n",
              "2              0.15556  0.07701    0.541105  3.478430               1.0   \n",
              "1              0.15556  0.05734    0.525284  3.376729               1.0   \n",
              "20             0.24476  0.05473    0.499909  2.042444               1.0   \n",
              "3              0.14232  0.07701    0.495050  3.478430               1.0   \n",
              "15             0.13621  0.06190    0.483556  3.550077               1.0   \n",
              "13             0.10916  0.06505    0.457069  4.187143               1.0   \n",
              "16             0.12801  0.06190    0.454445  3.550077               1.0   \n",
              "8              0.11523  0.07861    0.439629  3.815227               1.0   \n",
              "18             0.24476  0.13718    0.417850  1.707181               1.0   \n",
              "11             0.08700  0.05053    0.370971  4.264038               1.0   \n",
              "0              0.10916  0.05734    0.368604  3.376729               1.0   \n",
              "4              0.24476  0.06451    0.360774  1.473991               1.0   \n",
              "5              0.09469  0.06321    0.353504  3.733274               1.0   \n",
              "\n",
              "    leverage  conviction  zhangs_metric   jaccard  certainty  kulczynski  \n",
              "12  0.035854    2.309490       0.592868  0.187697   0.567004    0.456254  \n",
              "9   0.038407    2.291868       0.596055  0.200290   0.563675    0.462674  \n",
              "22  0.038878    2.121688       0.583498  0.206138   0.528677    0.455657  \n",
              "7   0.058006    2.583990       0.833993  0.364898   0.613002    0.560915  \n",
              "6   0.046278    2.470092       0.808716  0.300585   0.595157    0.510525  \n",
              "21  0.024587    1.747564       0.510406  0.145851   0.427775    0.388050  \n",
              "17  0.028349    1.732160       0.515196  0.166558   0.422686    0.399210  \n",
              "14  0.049514    2.122520       0.854445  0.348925   0.528862    0.526491  \n",
              "10  0.038680    2.060590       0.838423  0.292622   0.514702    0.475888  \n",
              "19  0.056825    1.528214       0.548486  0.314720   0.345642    0.489158  \n",
              "2   0.054871    1.840158       0.830746  0.348667   0.456568    0.518077  \n",
              "1   0.040359    1.778832       0.790103  0.276497   0.437833    0.446944  \n",
              "20  0.027934    1.510204       0.573138  0.182732   0.337838    0.361758  \n",
              "3   0.054871    1.698545       0.843771  0.348667   0.411261    0.518077  \n",
              "15  0.044464    1.672572       0.823766  0.305951   0.402119    0.469001  \n",
              "13  0.049514    1.640797       0.887480  0.348925   0.390540    0.526491  \n",
              "16  0.044464    1.598355       0.831586  0.305951   0.374357    0.469001  \n",
              "8   0.058006    1.578899       0.898565  0.364898   0.366647    0.560915  \n",
              "18  0.056825    1.297328       0.616702  0.314720   0.229185    0.489158  \n",
              "11  0.038680    1.451444       0.886188  0.292622   0.311031    0.475888  \n",
              "0   0.040359    1.410905       0.833517  0.276497   0.291235    0.446944  \n",
              "4   0.020744    1.181491       0.391590  0.179664   0.153612    0.312169  \n",
              "5   0.046278    1.400333       0.891558  0.300585   0.285884    0.510525  "
            ]
          },
          "execution_count": 18,
          "metadata": {},
          "output_type": "execute_result"
        }
      ],
      "source": [
        "df2_sorted = df2.sort_values(by='confidence', ascending=False)\n",
        "df2_sorted.head(30)"
      ]
    },
    {
      "cell_type": "code",
      "execution_count": 19,
      "metadata": {
        "colab": {
          "base_uri": "https://localhost:8080/",
          "height": 480
        },
        "id": "I1H_CBxSSjS2",
        "outputId": "15c58617-8df9-435e-8e12-f6b2a4bdbc38"
      },
      "outputs": [
        {
          "data": {
            "text/html": [
              "<div>\n",
              "<style scoped>\n",
              "    .dataframe tbody tr th:only-of-type {\n",
              "        vertical-align: middle;\n",
              "    }\n",
              "\n",
              "    .dataframe tbody tr th {\n",
              "        vertical-align: top;\n",
              "    }\n",
              "\n",
              "    .dataframe thead th {\n",
              "        text-align: right;\n",
              "    }\n",
              "</style>\n",
              "<table border=\"1\" class=\"dataframe\">\n",
              "  <thead>\n",
              "    <tr style=\"text-align: right;\">\n",
              "      <th></th>\n",
              "      <th>list_of_goods</th>\n",
              "    </tr>\n",
              "  </thead>\n",
              "  <tbody>\n",
              "    <tr>\n",
              "      <th>0</th>\n",
              "      <td>['megaman zero 3', 'energy bar', 'pokemon viol...</td>\n",
              "    </tr>\n",
              "    <tr>\n",
              "      <th>1</th>\n",
              "      <td>['black beer', 'bramble', 'laptop', 'pokemon v...</td>\n",
              "    </tr>\n",
              "    <tr>\n",
              "      <th>2</th>\n",
              "      <td>['soup', 'shallot', 'cake', 'fresh bread', 'cr...</td>\n",
              "    </tr>\n",
              "    <tr>\n",
              "      <th>3</th>\n",
              "      <td>['soup', 'cooking oil', 'cereals', 'oil', 'dog...</td>\n",
              "    </tr>\n",
              "    <tr>\n",
              "      <th>4</th>\n",
              "      <td>['eggplant', 'mint green tea', 'oil', 'bacon',...</td>\n",
              "    </tr>\n",
              "    <tr>\n",
              "      <th>...</th>\n",
              "      <td>...</td>\n",
              "    </tr>\n",
              "    <tr>\n",
              "      <th>99995</th>\n",
              "      <td>['frozen smoothie', 'avocado', 'dog food', 'ch...</td>\n",
              "    </tr>\n",
              "    <tr>\n",
              "      <th>99996</th>\n",
              "      <td>['cake', 'antioxydant juice', 'honey', 'toothp...</td>\n",
              "    </tr>\n",
              "    <tr>\n",
              "      <th>99997</th>\n",
              "      <td>['candy bars', 'spaghetti', 'oil', 'final fant...</td>\n",
              "    </tr>\n",
              "    <tr>\n",
              "      <th>99998</th>\n",
              "      <td>['shallot', 'cereals', 'oil', 'deodorant', 'me...</td>\n",
              "    </tr>\n",
              "    <tr>\n",
              "      <th>99999</th>\n",
              "      <td>['soup', 'napkins', 'pokemon violet', 'ratchet...</td>\n",
              "    </tr>\n",
              "  </tbody>\n",
              "</table>\n",
              "<p>100000 rows × 1 columns</p>\n",
              "</div>"
            ],
            "text/plain": [
              "                                           list_of_goods\n",
              "0      ['megaman zero 3', 'energy bar', 'pokemon viol...\n",
              "1      ['black beer', 'bramble', 'laptop', 'pokemon v...\n",
              "2      ['soup', 'shallot', 'cake', 'fresh bread', 'cr...\n",
              "3      ['soup', 'cooking oil', 'cereals', 'oil', 'dog...\n",
              "4      ['eggplant', 'mint green tea', 'oil', 'bacon',...\n",
              "...                                                  ...\n",
              "99995  ['frozen smoothie', 'avocado', 'dog food', 'ch...\n",
              "99996  ['cake', 'antioxydant juice', 'honey', 'toothp...\n",
              "99997  ['candy bars', 'spaghetti', 'oil', 'final fant...\n",
              "99998  ['shallot', 'cereals', 'oil', 'deodorant', 'me...\n",
              "99999  ['soup', 'napkins', 'pokemon violet', 'ratchet...\n",
              "\n",
              "[100000 rows x 1 columns]"
            ]
          },
          "execution_count": 19,
          "metadata": {},
          "output_type": "execute_result"
        }
      ],
      "source": [
        " veri2=dat.iloc[:,1]\n",
        " verie=pd.DataFrame(veri2)\n",
        " verie"
      ]
    },
    {
      "cell_type": "code",
      "execution_count": 20,
      "metadata": {
        "colab": {
          "base_uri": "https://localhost:8080/"
        },
        "id": "g67dah6JTFAW",
        "outputId": "1a0909cd-78ca-44e5-a5a9-cf188a284833"
      },
      "outputs": [
        {
          "name": "stdout",
          "output_type": "stream",
          "text": [
            "                                           list_of_goods\n",
            "0      megaman zero 3, energy bar, pokemon violet, ai...\n",
            "1      black beer, bramble, laptop, pokemon violet, a...\n",
            "2      soup, shallot, cake, fresh bread, cream, carro...\n",
            "3      soup, cooking oil, cereals, oil, dog food, deo...\n",
            "4      eggplant, mint green tea, oil, bacon, toilet p...\n",
            "...                                                  ...\n",
            "99995  frozen smoothie, avocado, dog food, chili, cha...\n",
            "99996  cake, antioxydant juice, honey, toothpaste, to...\n",
            "99997  candy bars, spaghetti, oil, final fantasy XXII...\n",
            "99998  shallot, cereals, oil, deodorant, metroid prim...\n",
            "99999  soup, napkins, pokemon violet, ratchet & clank...\n",
            "\n",
            "[100000 rows x 1 columns]\n"
          ]
        }
      ],
      "source": [
        "import pandas as pd\n",
        "from ast import literal_eval  # Import literal_eval to safely evaluate strings containing Python expressions\n",
        "\n",
        "# Assuming 'veri' is your DataFrame with the column 'list_of_goods'\n",
        "verie['list_of_goods'] = verie['list_of_goods'].apply(lambda x: literal_eval(x) if isinstance(x, str) else x)\n",
        "\n",
        "# Convert each row to a string with comma-separated items\n",
        "verie['list_of_goods'] = verie['list_of_goods'].apply(lambda x: ', '.join(x) if isinstance(x, list) else x)\n",
        "\n",
        "print(verie)\n"
      ]
    },
    {
      "cell_type": "code",
      "execution_count": 21,
      "metadata": {
        "colab": {
          "base_uri": "https://localhost:8080/"
        },
        "id": "p2y2Ll5pTlIz",
        "outputId": "6d89e57b-05de-4209-f21f-6f4f967fe262"
      },
      "outputs": [],
      "source": [
        "verie=list(verie[\"list_of_goods\"].apply(lambda x:x.split(\",\")))"
      ]
    },
    {
      "cell_type": "code",
      "execution_count": 22,
      "metadata": {
        "colab": {
          "base_uri": "https://localhost:8080/"
        },
        "id": "zza2-5UHTlLO",
        "outputId": "260de791-7a59-4978-c770-bec5532d74ab"
      },
      "outputs": [],
      "source": [
        "veri2e=pd.DataFrame(verie)"
      ]
    },
    {
      "cell_type": "code",
      "execution_count": 23,
      "metadata": {
        "colab": {
          "base_uri": "https://localhost:8080/"
        },
        "id": "Gl8Qq16QToj_",
        "outputId": "5eb937bd-8737-4ad0-8e82-6cc6cde663fb"
      },
      "outputs": [
        {
          "name": "stdout",
          "output_type": "stream",
          "text": [
            "                    0                   1                2   \\\n",
            "0       megaman zero 3          energy bar   pokemon violet   \n",
            "1           black beer             bramble           laptop   \n",
            "2                 soup             shallot             cake   \n",
            "3                 soup         cooking oil          cereals   \n",
            "4             eggplant      mint green tea              oil   \n",
            "...                ...                 ...              ...   \n",
            "99995  frozen smoothie             avocado         dog food   \n",
            "99996             cake   antioxydant juice            honey   \n",
            "99997       candy bars           spaghetti              oil   \n",
            "99998          shallot             cereals              oil   \n",
            "99999             soup             napkins   pokemon violet   \n",
            "\n",
            "                        3               4                             5   \\\n",
            "0                  airpods     fresh bread                      pancakes   \n",
            "1           pokemon violet         airpods   gadget for tiktok streaming   \n",
            "2              fresh bread           cream                       carrots   \n",
            "3                      oil        dog food                     deodorant   \n",
            "4                    bacon    toilet paper                        shrimp   \n",
            "...                    ...             ...                           ...   \n",
            "99995                chili       champagne             phone car charger   \n",
            "99996           toothpaste        tomatoes                       carrots   \n",
            "99997   final fantasy XXII      mayonnaise                      tomatoes   \n",
            "99998            deodorant   metroid prime                   ground beef   \n",
            "99999      ratchet & clank            milk                      pet food   \n",
            "\n",
            "                       6                 7             8              9   \\\n",
            "0                brownies      energy drink     champagne       red wine   \n",
            "1              ring light   ratchet & clank      pancakes   energy drink   \n",
            "2             babies food               ham       cookies          salad   \n",
            "3                tomatoes       yogurt cake      pet food         salmon   \n",
            "4                brownies          pancakes     champagne        spinach   \n",
            "...                   ...               ...           ...            ...   \n",
            "99995         french wine              salt          None           None   \n",
            "99996               chili              None          None           None   \n",
            "99997   ratchet & clank 3       cooking oil          None           None   \n",
            "99998      vacuum cleaner              None          None           None   \n",
            "99999         babies food           burgers   cooking oil           None   \n",
            "\n",
            "                          10            11               12           13  \\\n",
            "0       bluetooth headphones   protein bar   metroid fusion         None   \n",
            "1                       gums   protein bar             None         None   \n",
            "2               tomato sauce   cooking oil              tea         None   \n",
            "3                  olive oil    fresh tuna              tea         None   \n",
            "4                    cologne       chicken   barbecue sauce   fresh tuna   \n",
            "...                      ...           ...              ...          ...   \n",
            "99995                   None          None             None         None   \n",
            "99996                   None          None             None         None   \n",
            "99997                   None          None             None         None   \n",
            "99998                   None          None             None         None   \n",
            "99999                   None          None             None         None   \n",
            "\n",
            "         14    15    16    17    18    19  \n",
            "0      None  None  None  None  None  None  \n",
            "1      None  None  None  None  None  None  \n",
            "2      None  None  None  None  None  None  \n",
            "3      None  None  None  None  None  None  \n",
            "4      None  None  None  None  None  None  \n",
            "...     ...   ...   ...   ...   ...   ...  \n",
            "99995  None  None  None  None  None  None  \n",
            "99996  None  None  None  None  None  None  \n",
            "99997  None  None  None  None  None  None  \n",
            "99998  None  None  None  None  None  None  \n",
            "99999  None  None  None  None  None  None  \n",
            "\n",
            "[100000 rows x 20 columns]\n"
          ]
        }
      ],
      "source": [
        "print(veri2e)"
      ]
    },
    {
      "cell_type": "code",
      "execution_count": 24,
      "metadata": {
        "colab": {
          "base_uri": "https://localhost:8080/"
        },
        "id": "DaXg2BWkTxq1",
        "outputId": "c402e01e-4766-4d71-91bc-45488f52b1cf"
      },
      "outputs": [
        {
          "name": "stdout",
          "output_type": "stream",
          "text": [
            "Collecting pyECLAT\n",
            "  Downloading pyECLAT-1.0.2-py3-none-any.whl.metadata (4.0 kB)\n",
            "Requirement already satisfied: pandas>=0.25.3 in c:\\users\\artkh.000\\appdata\\roaming\\python\\python311\\site-packages (from pyECLAT) (2.2.3)\n",
            "Requirement already satisfied: numpy>=1.17.4 in c:\\users\\artkh.000\\appdata\\roaming\\python\\python311\\site-packages (from pyECLAT) (1.26.4)\n",
            "Requirement already satisfied: tqdm>=4.41.1 in c:\\users\\artkh.000\\appdata\\roaming\\python\\python311\\site-packages (from pyECLAT) (4.66.5)\n",
            "Requirement already satisfied: python-dateutil>=2.8.2 in c:\\users\\artkh.000\\appdata\\roaming\\python\\python311\\site-packages (from pandas>=0.25.3->pyECLAT) (2.9.0.post0)\n",
            "Requirement already satisfied: pytz>=2020.1 in c:\\users\\artkh.000\\appdata\\roaming\\python\\python311\\site-packages (from pandas>=0.25.3->pyECLAT) (2024.2)\n",
            "Requirement already satisfied: tzdata>=2022.7 in c:\\users\\artkh.000\\appdata\\roaming\\python\\python311\\site-packages (from pandas>=0.25.3->pyECLAT) (2024.2)\n",
            "Requirement already satisfied: colorama in c:\\users\\artkh.000\\appdata\\roaming\\python\\python311\\site-packages (from tqdm>=4.41.1->pyECLAT) (0.4.6)\n",
            "Requirement already satisfied: six>=1.5 in c:\\users\\artkh.000\\appdata\\roaming\\python\\python311\\site-packages (from python-dateutil>=2.8.2->pandas>=0.25.3->pyECLAT) (1.16.0)\n",
            "Downloading pyECLAT-1.0.2-py3-none-any.whl (6.3 kB)\n",
            "Installing collected packages: pyECLAT\n",
            "Successfully installed pyECLAT-1.0.2\n"
          ]
        },
        {
          "name": "stderr",
          "output_type": "stream",
          "text": [
            "\n",
            "[notice] A new release of pip is available: 24.3.1 -> 25.0.1\n",
            "[notice] To update, run: python.exe -m pip install --upgrade pip\n"
          ]
        }
      ],
      "source": [
        "!pip install pyECLAT"
      ]
    },
    {
      "cell_type": "code",
      "execution_count": 25,
      "metadata": {
        "colab": {
          "base_uri": "https://localhost:8080/"
        },
        "id": "hKK5WntwUb4H",
        "outputId": "602e2ce1-2665-4ddf-e09e-cf964a190fdc"
      },
      "outputs": [],
      "source": [
        "from pyECLAT import ECLAT"
      ]
    },
    {
      "cell_type": "code",
      "execution_count": 26,
      "metadata": {
        "colab": {
          "base_uri": "https://localhost:8080/"
        },
        "id": "YRYAjlekbV_I",
        "outputId": "cd45f1f9-5732-44d2-f29b-93863cf02177"
      },
      "outputs": [],
      "source": [
        "minürün=2\n",
        "minsupport=0.1\n",
        "maxürün=max([len(x) for x in verie])"
      ]
    },
    {
      "cell_type": "code",
      "execution_count": 27,
      "metadata": {
        "colab": {
          "base_uri": "https://localhost:8080/"
        },
        "id": "9y1pa9wYUnLX",
        "outputId": "1357cba9-a2a6-4259-ddcb-a2fe99689397"
      },
      "outputs": [
        {
          "name": "stderr",
          "output_type": "stream",
          "text": [
            "100%|██████████| 326/326 [01:03<00:00,  5.16it/s]\n",
            "100%|██████████| 326/326 [00:01<00:00, 219.34it/s]\n",
            "100%|██████████| 326/326 [00:00<00:00, 1255.86it/s]\n"
          ]
        }
      ],
      "source": [
        "ec=ECLAT(veri2e,verbose=True)"
      ]
    },
    {
      "cell_type": "code",
      "execution_count": 28,
      "metadata": {
        "colab": {
          "base_uri": "https://localhost:8080/"
        },
        "id": "g1g76OGRY958",
        "outputId": "25004d84-228b-4b1d-d134-258aa401a169"
      },
      "outputs": [
        {
          "name": "stdout",
          "output_type": "stream",
          "text": [
            "Combination 2 by 2\n"
          ]
        },
        {
          "name": "stderr",
          "output_type": "stream",
          "text": [
            "66it [00:06, 10.79it/s]\n"
          ]
        },
        {
          "name": "stdout",
          "output_type": "stream",
          "text": [
            "Combination 3 by 3\n"
          ]
        },
        {
          "name": "stderr",
          "output_type": "stream",
          "text": [
            "220it [00:17, 12.66it/s]\n"
          ]
        },
        {
          "name": "stdout",
          "output_type": "stream",
          "text": [
            "Combination 4 by 4\n"
          ]
        },
        {
          "name": "stderr",
          "output_type": "stream",
          "text": [
            "495it [00:37, 13.05it/s]\n"
          ]
        },
        {
          "name": "stdout",
          "output_type": "stream",
          "text": [
            "Combination 5 by 5\n"
          ]
        },
        {
          "name": "stderr",
          "output_type": "stream",
          "text": [
            "792it [01:00, 13.01it/s]\n"
          ]
        },
        {
          "name": "stdout",
          "output_type": "stream",
          "text": [
            "Combination 6 by 6\n"
          ]
        },
        {
          "name": "stderr",
          "output_type": "stream",
          "text": [
            "924it [01:11, 12.84it/s]\n"
          ]
        },
        {
          "name": "stdout",
          "output_type": "stream",
          "text": [
            "Combination 7 by 7\n"
          ]
        },
        {
          "name": "stderr",
          "output_type": "stream",
          "text": [
            "792it [01:02, 12.76it/s]\n"
          ]
        },
        {
          "name": "stdout",
          "output_type": "stream",
          "text": [
            "Combination 8 by 8\n"
          ]
        },
        {
          "name": "stderr",
          "output_type": "stream",
          "text": [
            "495it [00:38, 12.74it/s]\n"
          ]
        },
        {
          "name": "stdout",
          "output_type": "stream",
          "text": [
            "Combination 9 by 9\n"
          ]
        },
        {
          "name": "stderr",
          "output_type": "stream",
          "text": [
            "220it [00:22,  9.80it/s]\n"
          ]
        },
        {
          "name": "stdout",
          "output_type": "stream",
          "text": [
            "Combination 10 by 10\n"
          ]
        },
        {
          "name": "stderr",
          "output_type": "stream",
          "text": [
            "66it [00:05, 11.92it/s]\n"
          ]
        },
        {
          "name": "stdout",
          "output_type": "stream",
          "text": [
            "Combination 11 by 11\n"
          ]
        },
        {
          "name": "stderr",
          "output_type": "stream",
          "text": [
            "12it [00:00, 12.13it/s]\n"
          ]
        },
        {
          "name": "stdout",
          "output_type": "stream",
          "text": [
            "Combination 12 by 12\n"
          ]
        },
        {
          "name": "stderr",
          "output_type": "stream",
          "text": [
            "1it [00:00, 12.44it/s]\n"
          ]
        },
        {
          "name": "stdout",
          "output_type": "stream",
          "text": [
            "Combination 13 by 13\n"
          ]
        },
        {
          "name": "stderr",
          "output_type": "stream",
          "text": [
            "0it [00:00, ?it/s]\n"
          ]
        },
        {
          "name": "stdout",
          "output_type": "stream",
          "text": [
            "Combination 14 by 14\n"
          ]
        },
        {
          "name": "stderr",
          "output_type": "stream",
          "text": [
            "0it [00:00, ?it/s]\n"
          ]
        },
        {
          "name": "stdout",
          "output_type": "stream",
          "text": [
            "Combination 15 by 15\n"
          ]
        },
        {
          "name": "stderr",
          "output_type": "stream",
          "text": [
            "0it [00:00, ?it/s]\n"
          ]
        },
        {
          "name": "stdout",
          "output_type": "stream",
          "text": [
            "Combination 16 by 16\n"
          ]
        },
        {
          "name": "stderr",
          "output_type": "stream",
          "text": [
            "0it [00:00, ?it/s]\n"
          ]
        },
        {
          "name": "stdout",
          "output_type": "stream",
          "text": [
            "Combination 17 by 17\n"
          ]
        },
        {
          "name": "stderr",
          "output_type": "stream",
          "text": [
            "0it [00:00, ?it/s]\n"
          ]
        },
        {
          "name": "stdout",
          "output_type": "stream",
          "text": [
            "Combination 18 by 18\n"
          ]
        },
        {
          "name": "stderr",
          "output_type": "stream",
          "text": [
            "0it [00:00, ?it/s]\n"
          ]
        },
        {
          "name": "stdout",
          "output_type": "stream",
          "text": [
            "Combination 19 by 19\n"
          ]
        },
        {
          "name": "stderr",
          "output_type": "stream",
          "text": [
            "0it [00:00, ?it/s]\n"
          ]
        },
        {
          "name": "stdout",
          "output_type": "stream",
          "text": [
            "Combination 20 by 20\n"
          ]
        },
        {
          "name": "stderr",
          "output_type": "stream",
          "text": [
            "0it [00:00, ?it/s]"
          ]
        },
        {
          "name": "stdout",
          "output_type": "stream",
          "text": [
            "{' cooking oil &  oil': 0.13718}\n"
          ]
        },
        {
          "name": "stderr",
          "output_type": "stream",
          "text": [
            "\n"
          ]
        }
      ],
      "source": [
        "a,b=ec.fit(min_support=minsupport,min_combination=minürün,max_combination=maxürün)\n",
        "print(b)"
      ]
    }
  ],
  "metadata": {
    "accelerator": "GPU",
    "colab": {
      "gpuType": "T4",
      "provenance": []
    },
    "kernelspec": {
      "display_name": "base",
      "language": "python",
      "name": "python3"
    },
    "language_info": {
      "codemirror_mode": {
        "name": "ipython",
        "version": 3
      },
      "file_extension": ".py",
      "mimetype": "text/x-python",
      "name": "python",
      "nbconvert_exporter": "python",
      "pygments_lexer": "ipython3",
      "version": "3.11.5"
    }
  },
  "nbformat": 4,
  "nbformat_minor": 0
}
